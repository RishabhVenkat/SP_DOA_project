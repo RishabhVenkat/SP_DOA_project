{
  "nbformat": 4,
  "nbformat_minor": 0,
  "metadata": {
    "colab": {
      "provenance": [],
      "include_colab_link": true
    },
    "kernelspec": {
      "name": "python3",
      "display_name": "Python 3"
    },
    "language_info": {
      "name": "python"
    }
  },
  "cells": [
    {
      "cell_type": "markdown",
      "metadata": {
        "id": "view-in-github",
        "colab_type": "text"
      },
      "source": [
        "<a href=\"https://colab.research.google.com/github/RishabhVenkat/SP_DOA_project/blob/main/MLP_Linear_Gaussian.ipynb\" target=\"_parent\"><img src=\"https://colab.research.google.com/assets/colab-badge.svg\" alt=\"Open In Colab\"/></a>"
      ]
    },
    {
      "cell_type": "code",
      "execution_count": null,
      "metadata": {
        "id": "ynXg3nUdMm4W"
      },
      "outputs": [],
      "source": [
        "import torch\n",
        "import torch.nn as nn\n",
        "import torch.optim as optim\n",
        "import numpy as np\n"
      ]
    },
    {
      "cell_type": "code",
      "source": [
        "class SimpleMLP(nn.Module):\n",
        "  def __init__(self,input_dim):\n",
        "    super(SimpleMLP,self).__init__()\n",
        "    self.fc1=nn.Linear(input_dim,256)\n",
        "    self.fc2=nn.Linear(256,128)\n",
        "    self.fc3=nn.Linear(128,64)\n",
        "    self.fc4=nn.Linear(64,input_dim)\n",
        "\n",
        "  def forward(self,x):\n",
        "    x=torch.relu(self.fc1(x))\n",
        "    x=torch.relu(self.fc2(x))\n",
        "    x=torch.relu(self.fc3(x))\n",
        "    x=self.fc4(x)\n",
        "    return x\n"
      ],
      "metadata": {
        "id": "CbQuYxsONACQ"
      },
      "execution_count": null,
      "outputs": []
    },
    {
      "cell_type": "code",
      "source": [
        "class AffineCouplingLayer(nn.Module):\n",
        "  def __init__(self,input_dim):\n",
        "    super(AffineCouplingLayer,self).__init__()\n",
        "    self.scale=nn.Parameter(torch.ones(input_dim))\n",
        "    self.shift=nn.Parameter(torch.zeros(input_dim))\n",
        "\n",
        "  def forward(self,x):\n",
        "    return x*self.scale+self.shift\n",
        "\n",
        "  def inverse(self,y):\n",
        "    return (y-self.shift)/self.scale\n"
      ],
      "metadata": {
        "id": "-e6bfnB6NZio"
      },
      "execution_count": null,
      "outputs": []
    },
    {
      "cell_type": "code",
      "source": [
        "class NormalizingFlow(nn.Module):\n",
        "  def __init__(self,input_dim):\n",
        "    super(NormalizingFlow,self).__init__()\n",
        "    self.affine_coupling=AffineCouplingLayer(input_dim);\n",
        "    self.mlp=SimpleMLP(input_dim)\n",
        "\n",
        "  def forward(self,z,theta):\n",
        "    A_theta=self.mlp(theta)\n",
        "    z_transformed=self.affine_coupling(z)\n",
        "    return A_theta+z_transformed\n",
        "\n",
        "  def inverse(self,x,theta):\n",
        "    A_theta=self.mlp(theta)\n",
        "    z_untransformed=x-A_theta\n",
        "    return self.affine_coupling.inverse(z_untransformed)\n"
      ],
      "metadata": {
        "id": "CZ4aUKc0Ond7"
      },
      "execution_count": null,
      "outputs": []
    },
    {
      "cell_type": "code",
      "source": [
        "def generate_synthetic_data(A,L,z):\n",
        "  #return torch.matmul(z,L.T)+torch.matmul(z,A.T)\n",
        "  assert z.shape[1]==A.shape[0], \"Dimensions of z and A must match for multiplication.\"\n",
        "\n",
        "  x=A@z.T+L@torch.randn_like(z.T);\n",
        "  x=x.T\n",
        "  return x\n"
      ],
      "metadata": {
        "id": "12gSZXkjPtgY"
      },
      "execution_count": null,
      "outputs": []
    },
    {
      "cell_type": "code",
      "source": [
        "def optimize_theta(flow,x,A,L,n,lr=0.00001,n_iterations=10000):\n",
        "  theta=nn.Parameter(torch.randn(n))\n",
        "  optimizer=optim.Adam([theta],lr=lr,weight_decay=1e-4)\n",
        "  scheduler = optim.lr_scheduler.StepLR(optimizer, step_size=100, gamma=0.9)\n",
        "  loss_fn=nn.MSELoss()\n",
        "\n",
        "  for _ in range(n_iterations):\n",
        "    optimizer.zero_grad()\n",
        "    z=flow.inverse(x,theta)\n",
        "    x_reconstructed=flow(z,theta)\n",
        "    loss=loss_fn(x,x_reconstructed)\n",
        "    loss.backward()\n",
        "    torch.nn.utils.clip_grad_norm_(theta,max_norm=1.0)\n",
        "    optimizer.step()\n",
        "    scheduler.step()\n",
        "\n",
        "  return theta\n"
      ],
      "metadata": {
        "id": "Axbz60FtP-4K"
      },
      "execution_count": null,
      "outputs": []
    },
    {
      "cell_type": "code",
      "source": [
        "np.random.seed(42)\n",
        "torch.manual_seed(42)\n",
        "n=5\n",
        "A=torch.randn(n,n)\n",
        "C_vv=np.cov(np.random.randn(n,100))\n",
        "L=torch.tensor(np.linalg.cholesky(C_vv).astype(np.float32))\n",
        "\n",
        "true_theta=2.0\n"
      ],
      "metadata": {
        "id": "8BtdJZaVRtmt"
      },
      "execution_count": null,
      "outputs": []
    },
    {
      "cell_type": "code",
      "source": [
        "n_samples=1000\n",
        "z=torch.randn(n_samples,n)\n",
        "x=generate_synthetic_data(A,L,z)\n",
        "\n",
        "x_mean=x.mean(dim=0)\n",
        "x_std=x.std(dim=0)\n",
        "x=(x-x_mean)/x_std\n",
        "\n",
        "flow=NormalizingFlow(n)\n",
        "\n",
        "estimated_theta=optimize_theta(flow,x,A,L,n)\n",
        "difference=estimated_theta-true_theta\n",
        "print(\"Difference between estimated theta and true theta:\",difference)\n"
      ],
      "metadata": {
        "id": "vkCnxzbLUteg",
        "colab": {
          "base_uri": "https://localhost:8080/"
        },
        "outputId": "90089f52-6527-4d9f-cf21-b524b1ab6831"
      },
      "execution_count": null,
      "outputs": [
        {
          "output_type": "stream",
          "name": "stdout",
          "text": [
            "Difference between estimated theta and true theta: tensor([-2.9069,  0.2775, -0.6193, -0.2486, -2.9741], grad_fn=<SubBackward0>)\n"
          ]
        }
      ]
    },
    {
      "cell_type": "code",
      "source": [
        "def fisher_information_matrix(x,theta,flow):\n",
        "  x=x.clone().detach().requires_grad_(True)\n",
        "  z=flow.inverse(x,theta)\n",
        "  reconstructed_x=flow(z,theta)\n",
        "  loss_fn=nn.MSELoss()\n",
        "  loss=loss_fn(x,reconstructed_x)\n",
        "  loss.backward(retain_graph=True)\n",
        "  grad=torch.autograd.grad(loss,theta,create_graph=True)[0]\n",
        "\n",
        "  if grad.dim()==1:\n",
        "    grad=grad.unsqueeze(0)\n",
        "\n",
        "  FIM=torch.matmul(grad.T,grad)\n",
        "  return FIM\n"
      ],
      "metadata": {
        "id": "DshgSWTja5TK"
      },
      "execution_count": null,
      "outputs": []
    },
    {
      "cell_type": "code",
      "source": [
        "def add_regularization(matrix,epsilon=1e-6):\n",
        "  return matrix+torch.eye(matrix.size(0),device=matrix.device)*epsilon\n"
      ],
      "metadata": {
        "id": "q5-FXw6lhMiZ"
      },
      "execution_count": null,
      "outputs": []
    },
    {
      "cell_type": "code",
      "source": [
        "FIM_estimated=fisher_information_matrix(x,estimated_theta,flow)\n",
        "if FIM_estimated.ndimension()==1:\n",
        "  FIM_estimated=FIM_estimated.unsqueeze(0).unsqueeze(0)\n",
        "\n",
        "print(\"Shape of estimated FIM:\",FIM_estimated.shape)\n",
        "FIM_estimated=add_regularization(FIM_estimated)\n",
        "\n",
        "try:\n",
        "  CRB_estimated=torch.inverse(FIM_estimated)\n",
        "  print(\"CRB Estimation Successful\")\n",
        "except RuntimeError as e:\n",
        "  print(\"Error computing inverse:\",e)\n"
      ],
      "metadata": {
        "colab": {
          "base_uri": "https://localhost:8080/"
        },
        "id": "wgeGWBkJbpum",
        "outputId": "389cd819-bf12-4e04-e24c-6e5a762cd609"
      },
      "execution_count": null,
      "outputs": [
        {
          "output_type": "stream",
          "name": "stdout",
          "text": [
            "Shape of estimated FIM: torch.Size([5, 5])\n",
            "CRB Estimation Successful\n"
          ]
        }
      ]
    },
    {
      "cell_type": "code",
      "source": [
        "epsilon_values=[1,2,10]\n",
        "for epsilon in epsilon_values:\n",
        "  FIM_estimated=fisher_information_matrix(x,estimated_theta,flow)\n",
        "  FIM_estimated=add_regularization(FIM_estimated,epsilon)\n",
        "  try:\n",
        "    CRB_estimated=torch.inverse(FIM_estimated)\n",
        "    print(f\"Estimated CRB with epsilon={epsilon}:{torch.det(FIM_estimated)}\")\n",
        "    print\n",
        "  except RuntimeError as e:\n",
        "    print(f\"Error with epsilon={epsilon}:{e}\")\n"
      ],
      "metadata": {
        "colab": {
          "base_uri": "https://localhost:8080/"
        },
        "id": "tuZ1e6ozmUna",
        "outputId": "a14143a3-27a6-4633-8f6c-9254dafd195d"
      },
      "execution_count": null,
      "outputs": [
        {
          "output_type": "stream",
          "name": "stdout",
          "text": [
            "Estimated CRB with epsilon=1:1.0\n",
            "Estimated CRB with epsilon=2:32.0\n",
            "Estimated CRB with epsilon=10:100000.0\n"
          ]
        }
      ]
    },
    {
      "cell_type": "code",
      "source": [
        "def actual_fisher_information_matrix(A,C_vv):\n",
        "  return torch.matmul(A.T,torch.inverse(torch.tensor(C_vv,dtype=torch.float32)))@A\n"
      ],
      "metadata": {
        "id": "Idp8Z47RiSy_"
      },
      "execution_count": null,
      "outputs": []
    },
    {
      "cell_type": "code",
      "source": [
        "FIM_actual=actual_fisher_information_matrix(A,C_vv)\n",
        "CRB_actual=torch.inverse(FIM_actual)\n"
      ],
      "metadata": {
        "id": "CUgvUriwi3yR"
      },
      "execution_count": null,
      "outputs": []
    },
    {
      "cell_type": "code",
      "source": [
        "print(\"True theta:\",true_theta)\n",
        "print(\"Estimated theta:\",estimated_theta)\n",
        "print(\"Actual Fisher Information Matrix:\",FIM_actual)\n",
        "print(\"Estimated Fisher Information Matric:\",FIM_estimated)\n",
        "print(\"Actual CRB:\",CRB_actual)\n",
        "print(\"Estimated CRB:\",CRB_estimated)\n"
      ],
      "metadata": {
        "colab": {
          "base_uri": "https://localhost:8080/"
        },
        "id": "zAUCdW1VjFAX",
        "outputId": "e59510da-b9aa-433a-cd12-f9eb59d7e0dd"
      },
      "execution_count": null,
      "outputs": [
        {
          "output_type": "stream",
          "name": "stdout",
          "text": [
            "True theta: 2.0\n",
            "Estimated theta: Parameter containing:\n",
            "tensor([ 0.8803, -1.1164,  0.4475,  0.0417, -1.2856], requires_grad=True)\n",
            "Actual Fisher Information Matrix: tensor([[ 6.3663,  3.1568,  4.8521, -4.2329,  4.4982],\n",
            "        [ 3.1568,  4.5754,  1.6776, -4.5801,  1.4389],\n",
            "        [ 4.8521,  1.6776,  5.2751, -1.4182,  5.4028],\n",
            "        [-4.2329, -4.5801, -1.4182,  7.1255, -2.7055],\n",
            "        [ 4.4982,  1.4389,  5.4028, -2.7055,  8.6176]])\n",
            "Estimated Fisher Information Matric: tensor([[10.,  0.,  0.,  0.,  0.],\n",
            "        [ 0., 10.,  0.,  0.,  0.],\n",
            "        [ 0.,  0., 10.,  0.,  0.],\n",
            "        [ 0.,  0.,  0., 10.,  0.],\n",
            "        [ 0.,  0.,  0.,  0., 10.]], grad_fn=<AddBackward0>)\n",
            "Actual CRB: tensor([[ 1798.3230,   878.3101, -2516.9656,  1497.4629,   962.8124],\n",
            "        [  878.3102,   429.8562, -1229.7511,   731.9708,   470.5673],\n",
            "        [-2516.9658, -1229.7512,  3523.5557, -2096.2080, -1348.0776],\n",
            "        [ 1497.4631,   731.9708, -2096.2080,  1247.5072,   802.0198],\n",
            "        [  962.8125,   470.5674, -1348.0778,   802.0199,   515.9547]])\n",
            "Estimated CRB: tensor([[0.1000, 0.0000, 0.0000, 0.0000, 0.0000],\n",
            "        [0.0000, 0.1000, 0.0000, 0.0000, 0.0000],\n",
            "        [0.0000, 0.0000, 0.1000, 0.0000, 0.0000],\n",
            "        [0.0000, 0.0000, 0.0000, 0.1000, 0.0000],\n",
            "        [-0.0000, -0.0000, -0.0000, -0.0000, 0.1000]],\n",
            "       grad_fn=<LinalgInvExBackward0>)\n"
          ]
        }
      ]
    },
    {
      "cell_type": "code",
      "source": [
        "difference=torch.norm(CRB_actual-CRB_estimated).item()\n",
        "print(\"Difference between actual and estimated CRB:\",difference)\n",
        "\n"
      ],
      "metadata": {
        "colab": {
          "base_uri": "https://localhost:8080/"
        },
        "id": "l1qtozf-jx2r",
        "outputId": "3c7b7aa9-2633-47d3-aa80-e271250d957d"
      },
      "execution_count": null,
      "outputs": [
        {
          "output_type": "stream",
          "name": "stdout",
          "text": [
            "Difference between actual and estimated CRB: 7513.67724609375\n"
          ]
        }
      ]
    }
  ]
}